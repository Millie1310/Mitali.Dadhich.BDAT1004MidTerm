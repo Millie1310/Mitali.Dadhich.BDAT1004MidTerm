{
 "cells": [
  {
   "cell_type": "markdown",
   "id": "b6475448",
   "metadata": {},
   "source": [
    "## Question 22"
   ]
  },
  {
   "cell_type": "code",
   "execution_count": 11,
   "id": "d12f2aaf",
   "metadata": {},
   "outputs": [],
   "source": [
    "import sqlite3\n",
    "conn = sqlite3.connect('mid_term.db')  \n",
    "\n",
    "cursor = conn.cursor()\n",
    "\n",
    "create_table_query = '''\n",
    "CREATE TABLE WEATHER_Table (\n",
    "    id INT PRIMARY KEY,\n",
    "    recordDate DATE,\n",
    "    temperature INT\n",
    ");\n",
    "'''\n",
    "\n",
    "insert_queries = [\n",
    "    \"INSERT INTO Weather_Table VALUES (1, '2015-01-01', 10);\",\n",
    "    \"INSERT INTO Weather_Table VALUES (2, '2015-01-02', 25);\",\n",
    "    \"INSERT INTO Weather_Table VALUES (3, '2015-01-03', 20);\",\n",
    "    \"INSERT INTO Weather_Table VALUES (4, '2015-01-04', 30);\"\n",
    "]\n",
    "\n",
    "\n",
    "\n",
    "# Execute the SQL queries\n",
    "cursor.executescript(create_table_query)\n",
    "for insert_query in insert_queries:\n",
    "    cursor.execute(insert_query)\n",
    "    "
   ]
  },
  {
   "cell_type": "code",
   "execution_count": 12,
   "id": "c3c77b4e",
   "metadata": {},
   "outputs": [
    {
     "name": "stdout",
     "output_type": "stream",
     "text": [
      "(2,)\n",
      "(4,)\n"
     ]
    }
   ],
   "source": [
    "# Execute the SELECT query and fetch the results\n",
    "def printIDs():\n",
    "    select_query = '''SELECT t1.id FROM Weather_Table t1 JOIN Weather_Table t2 ON t1.id = t2.id + 1 WHERE t1.temperature > t2.temperature;'''\n",
    "    cursor.execute(select_query)\n",
    "    results = cursor.fetchall()\n",
    "    for row in results:\n",
    "        print(row)\n",
    "printIDs()\n",
    "conn.commit()\n",
    "conn.close()"
   ]
  }
 ],
 "metadata": {
  "kernelspec": {
   "display_name": "Python 3 (ipykernel)",
   "language": "python",
   "name": "python3"
  },
  "language_info": {
   "codemirror_mode": {
    "name": "ipython",
    "version": 3
   },
   "file_extension": ".py",
   "mimetype": "text/x-python",
   "name": "python",
   "nbconvert_exporter": "python",
   "pygments_lexer": "ipython3",
   "version": "3.11.4"
  }
 },
 "nbformat": 4,
 "nbformat_minor": 5
}
